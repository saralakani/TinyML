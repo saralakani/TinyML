{
  "nbformat": 4,
  "nbformat_minor": 0,
  "metadata": {
    "accelerator": "GPU",
    "colab": {
      "name": "2-4-3-HorsesOrHumans",
      "provenance": [],
      "include_colab_link": true
    },
    "kernelspec": {
      "display_name": "Python 3",
      "language": "python",
      "name": "python3"
    },
    "language_info": {
      "codemirror_mode": {
        "name": "ipython",
        "version": 3
      },
      "file_extension": ".py",
      "mimetype": "text/x-python",
      "name": "python",
      "nbconvert_exporter": "python",
      "pygments_lexer": "ipython3",
      "version": "3.6.9"
    }
  },
  "cells": [
    {
      "cell_type": "markdown",
      "metadata": {
        "id": "view-in-github",
        "colab_type": "text"
      },
      "source": [
        "<a href=\"https://colab.research.google.com/github/saralakani/TinyML/blob/main/2-4-3-HorsesOrHumans.ipynb\" target=\"_parent\"><img src=\"https://colab.research.google.com/assets/colab-badge.svg\" alt=\"Open In Colab\"/></a>"
      ]
    },
    {
      "cell_type": "code",
      "metadata": {
        "id": "zX4Kg8DUTKWO"
      },
      "source": [
        "#@title Licensed under the Apache License, Version 2.0 (the \"License\");\n",
        "# you may not use this file except in compliance with the License.\n",
        "# You may obtain a copy of the License at\n",
        "#\n",
        "# https://www.apache.org/licenses/LICENSE-2.0\n",
        "#\n",
        "# Unless required by applicable law or agreed to in writing, software\n",
        "# distributed under the License is distributed on an \"AS IS\" BASIS,\n",
        "# WITHOUT WARRANTIES OR CONDITIONS OF ANY KIND, either express or implied.\n",
        "# See the License for the specific language governing permissions and\n",
        "# limitations under the License."
      ],
      "execution_count": null,
      "outputs": []
    },
    {
      "cell_type": "markdown",
      "metadata": {
        "id": "WyiYQL32R3Vg"
      },
      "source": [
        "## Download the neccessary data into the Colab Instance"
      ]
    },
    {
      "cell_type": "code",
      "metadata": {
        "id": "RXZT2UsyIVe_",
        "colab": {
          "base_uri": "https://localhost:8080/"
        },
        "outputId": "6a6f64bf-f45a-4880-d2e9-1defe300a240"
      },
      "source": [
        "!wget --no-check-certificate \\\n",
        "    https://storage.googleapis.com/laurencemoroney-blog.appspot.com/horse-or-human.zip \\\n",
        "    -O /tmp/horse-or-human.zip\n",
        "\n",
        "!wget --no-check-certificate \\\n",
        "    https://storage.googleapis.com/laurencemoroney-blog.appspot.com/validation-horse-or-human.zip \\\n",
        "    -O /tmp/validation-horse-or-human.zip"
      ],
      "execution_count": 1,
      "outputs": [
        {
          "output_type": "stream",
          "name": "stdout",
          "text": [
            "--2022-12-17 18:04:28--  https://storage.googleapis.com/laurencemoroney-blog.appspot.com/horse-or-human.zip\n",
            "Resolving storage.googleapis.com (storage.googleapis.com)... 142.251.163.128, 142.250.73.208, 142.250.188.208, ...\n",
            "Connecting to storage.googleapis.com (storage.googleapis.com)|142.251.163.128|:443... connected.\n",
            "HTTP request sent, awaiting response... 200 OK\n",
            "Length: 149574867 (143M) [application/zip]\n",
            "Saving to: ‘/tmp/horse-or-human.zip’\n",
            "\n",
            "/tmp/horse-or-human 100%[===================>] 142.65M   138MB/s    in 1.0s    \n",
            "\n",
            "2022-12-17 18:04:29 (138 MB/s) - ‘/tmp/horse-or-human.zip’ saved [149574867/149574867]\n",
            "\n",
            "--2022-12-17 18:04:29--  https://storage.googleapis.com/laurencemoroney-blog.appspot.com/validation-horse-or-human.zip\n",
            "Resolving storage.googleapis.com (storage.googleapis.com)... 142.251.163.128, 142.250.73.208, 142.250.188.208, ...\n",
            "Connecting to storage.googleapis.com (storage.googleapis.com)|142.251.163.128|:443... connected.\n",
            "HTTP request sent, awaiting response... 200 OK\n",
            "Length: 11480187 (11M) [application/zip]\n",
            "Saving to: ‘/tmp/validation-horse-or-human.zip’\n",
            "\n",
            "/tmp/validation-hor 100%[===================>]  10.95M  50.7MB/s    in 0.2s    \n",
            "\n",
            "2022-12-17 18:04:30 (50.7 MB/s) - ‘/tmp/validation-horse-or-human.zip’ saved [11480187/11480187]\n",
            "\n"
          ]
        }
      ]
    },
    {
      "cell_type": "code",
      "metadata": {
        "id": "PLy3pthUS0D2"
      },
      "source": [
        "import os\n",
        "import zipfile\n",
        "\n",
        "local_zip = '/tmp/horse-or-human.zip'\n",
        "zip_ref = zipfile.ZipFile(local_zip, 'r')\n",
        "zip_ref.extractall('/tmp/horse-or-human')\n",
        "local_zip = '/tmp/validation-horse-or-human.zip'\n",
        "zip_ref = zipfile.ZipFile(local_zip, 'r')\n",
        "zip_ref.extractall('/tmp/validation-horse-or-human')\n",
        "zip_ref.close()"
      ],
      "execution_count": 2,
      "outputs": []
    },
    {
      "cell_type": "code",
      "metadata": {
        "id": "WwuabikGR3Vh",
        "colab": {
          "base_uri": "https://localhost:8080/"
        },
        "outputId": "82ab52cf-a284-439f-cacd-516c2cda50a3"
      },
      "source": [
        "# Directory with our training horse pictures\n",
        "train_horse_dir = os.path.join('/tmp/horse-or-human/horses')\n",
        "# Directory with our training human pictures\n",
        "train_human_dir = os.path.join('/tmp/horse-or-human/humans')\n",
        "# Directory with our training horse pictures\n",
        "validation_horse_dir = os.path.join('/tmp/validation-horse-or-human/horses')\n",
        "# Directory with our training human pictures\n",
        "validation_human_dir = os.path.join('/tmp/validation-horse-or-human/humans')\n",
        "train_horse_names = os.listdir('/tmp/horse-or-human/horses')\n",
        "print(train_horse_names[:10])\n",
        "train_human_names = os.listdir('/tmp/horse-or-human/humans')\n",
        "print(train_human_names[:10])\n",
        "validation_horse_hames = os.listdir('/tmp/validation-horse-or-human/horses')\n",
        "print(validation_horse_hames[:10])\n",
        "validation_human_names = os.listdir('/tmp/validation-horse-or-human/humans')\n",
        "print(validation_human_names[:10])"
      ],
      "execution_count": 3,
      "outputs": [
        {
          "output_type": "stream",
          "name": "stdout",
          "text": [
            "['horse24-1.png', 'horse49-9.png', 'horse20-1.png', 'horse25-8.png', 'horse45-3.png', 'horse39-6.png', 'horse49-6.png', 'horse05-0.png', 'horse14-4.png', 'horse17-5.png']\n",
            "['human07-04.png', 'human11-04.png', 'human08-26.png', 'human14-21.png', 'human05-22.png', 'human09-20.png', 'human16-18.png', 'human14-00.png', 'human16-23.png', 'human09-26.png']\n",
            "['horse2-112.png', 'horse5-103.png', 'horse4-232.png', 'horse1-554.png', 'horse2-383.png', 'horse5-181.png', 'horse4-548.png', 'horse2-412.png', 'horse6-218.png', 'horse4-389.png']\n",
            "['valhuman03-21.png', 'valhuman03-00.png', 'valhuman05-20.png', 'valhuman03-14.png', 'valhuman03-19.png', 'valhuman04-08.png', 'valhuman01-03.png', 'valhuman02-14.png', 'valhuman05-13.png', 'valhuman05-07.png']\n"
          ]
        }
      ]
    },
    {
      "cell_type": "code",
      "metadata": {
        "id": "qvfZg3LQbD-5"
      },
      "source": [
        "import tensorflow as tf"
      ],
      "execution_count": 4,
      "outputs": []
    },
    {
      "cell_type": "markdown",
      "metadata": {
        "id": "2cd7ECxpR3Vi"
      },
      "source": [
        "## Define your model and optimizer"
      ]
    },
    {
      "cell_type": "code",
      "metadata": {
        "id": "PixZ2s5QbYQ3"
      },
      "source": [
        "model = tf.keras.models.Sequential([\n",
        "    # Note the input shape is the desired size of the image with 3 bytes color\n",
        "    # This is the first convolution\n",
        "    tf.keras.layers.Conv2D(32, (3,3), activation='relu', input_shape=(100, 100, 3)),\n",
        "    tf.keras.layers.MaxPooling2D(2, 2),\n",
        "    # The second convolution\n",
        "    tf.keras.layers.Conv2D(64, (3,3), activation='relu'),\n",
        "    tf.keras.layers.MaxPooling2D(2,2),\n",
        "    # The third convolution\n",
        "    tf.keras.layers.Conv2D(128, (3,3), activation='relu'),\n",
        "    tf.keras.layers.MaxPooling2D(2,2),\n",
        "    # The fourth convolution\n",
        "    tf.keras.layers.Conv2D(256, (3,3), activation='relu'),\n",
        "    tf.keras.layers.MaxPooling2D(2,2),\n",
        "    # Flatten the results to feed into a DNN\n",
        "    tf.keras.layers.Flatten(),\n",
        "    # 512 neuron hidden layer\n",
        "    tf.keras.layers.Dense(512, activation='relu'),\n",
        "    tf.keras.layers.Dense(256, activation='relu'),\n",
        "    # Only 1 output neuron. It will contain a value from 0-1 where 0 for 1 class ('horses') and 1 for the other ('humans')\n",
        "    tf.keras.layers.Dense(1, activation='sigmoid')\n",
        "])"
      ],
      "execution_count": 5,
      "outputs": []
    },
    {
      "cell_type": "code",
      "metadata": {
        "id": "pMDg5mJxDrBq",
        "colab": {
          "base_uri": "https://localhost:8080/"
        },
        "outputId": "284a8e99-13f9-465f-a39c-6c309a3d8ab7"
      },
      "source": [
        "print(model.summary())"
      ],
      "execution_count": 6,
      "outputs": [
        {
          "output_type": "stream",
          "name": "stdout",
          "text": [
            "Model: \"sequential\"\n",
            "_________________________________________________________________\n",
            " Layer (type)                Output Shape              Param #   \n",
            "=================================================================\n",
            " conv2d (Conv2D)             (None, 98, 98, 32)        896       \n",
            "                                                                 \n",
            " max_pooling2d (MaxPooling2D  (None, 49, 49, 32)       0         \n",
            " )                                                               \n",
            "                                                                 \n",
            " conv2d_1 (Conv2D)           (None, 47, 47, 64)        18496     \n",
            "                                                                 \n",
            " max_pooling2d_1 (MaxPooling  (None, 23, 23, 64)       0         \n",
            " 2D)                                                             \n",
            "                                                                 \n",
            " conv2d_2 (Conv2D)           (None, 21, 21, 128)       73856     \n",
            "                                                                 \n",
            " max_pooling2d_2 (MaxPooling  (None, 10, 10, 128)      0         \n",
            " 2D)                                                             \n",
            "                                                                 \n",
            " conv2d_3 (Conv2D)           (None, 8, 8, 256)         295168    \n",
            "                                                                 \n",
            " max_pooling2d_3 (MaxPooling  (None, 4, 4, 256)        0         \n",
            " 2D)                                                             \n",
            "                                                                 \n",
            " flatten (Flatten)           (None, 4096)              0         \n",
            "                                                                 \n",
            " dense (Dense)               (None, 512)               2097664   \n",
            "                                                                 \n",
            " dense_1 (Dense)             (None, 256)               131328    \n",
            "                                                                 \n",
            " dense_2 (Dense)             (None, 1)                 257       \n",
            "                                                                 \n",
            "=================================================================\n",
            "Total params: 2,617,665\n",
            "Trainable params: 2,617,665\n",
            "Non-trainable params: 0\n",
            "_________________________________________________________________\n",
            "None\n"
          ]
        }
      ]
    },
    {
      "cell_type": "code",
      "metadata": {
        "id": "8DHWhFP_uhq3"
      },
      "source": [
        "from tensorflow.keras.optimizers import RMSprop\n",
        "optimizer = RMSprop(lr=0.0001)\n",
        "model.compile(loss='binary_crossentropy',\n",
        "              optimizer=optimizer,\n",
        "              metrics=['acc'])"
      ],
      "execution_count": null,
      "outputs": []
    },
    {
      "cell_type": "markdown",
      "metadata": {
        "id": "wgON_hpSR3Vj"
      },
      "source": [
        "## Organize your data into Generators"
      ]
    },
    {
      "cell_type": "code",
      "metadata": {
        "id": "ClebU9NJg99G",
        "colab": {
          "base_uri": "https://localhost:8080/"
        },
        "outputId": "72db9b99-9da5-4bdc-b365-81ac1e43f0fd"
      },
      "source": [
        "from tensorflow.keras.preprocessing.image import ImageDataGenerator\n",
        "\n",
        "# All images will be augmented according to whichever lines are uncommented below.\n",
        "# we can first try without any of the augmentation beyond the rescaling\n",
        "train_datagen = ImageDataGenerator(\n",
        "      rescale=1./255,\n",
        "      #rotation_range=40,\n",
        "      #width_shift_range=0.2,\n",
        "      #height_shift_range=0.2,\n",
        "      #shear_range=0.2,\n",
        "      #zoom_range=0.2,\n",
        "      #horizontal_flip=True,\n",
        "      #fill_mode='nearest'\n",
        "      )\n",
        "\n",
        "# Flow training images in batches of 128 using train_datagen generator\n",
        "train_generator = train_datagen.flow_from_directory(\n",
        "        '/tmp/horse-or-human/',  # This is the source directory for training images\n",
        "        target_size=(100, 100),  # All images will be resized to 100x100\n",
        "        batch_size=128,\n",
        "        # Since we use binary_crossentropy loss, we need binary labels\n",
        "        class_mode='binary')\n",
        "\n",
        "validation_datagen = ImageDataGenerator(rescale=1./255)\n",
        "\n",
        "validation_generator = validation_datagen.flow_from_directory(\n",
        "        '/tmp/validation-horse-or-human',\n",
        "        target_size=(100, 100),\n",
        "        class_mode='binary')\n"
      ],
      "execution_count": 7,
      "outputs": [
        {
          "output_type": "stream",
          "name": "stdout",
          "text": [
            "Found 1027 images belonging to 2 classes.\n",
            "Found 256 images belonging to 2 classes.\n"
          ]
        }
      ]
    },
    {
      "cell_type": "markdown",
      "metadata": {
        "id": "_doVZoHAR3Vk"
      },
      "source": [
        "## Train your model\n",
        "This may take a little while. Remember we are now building and training relatively complex computer vision models!"
      ]
    },
    {
      "cell_type": "code",
      "source": [
        "#Compile your model\n",
        "from tensorflow.keras.optimizers import RMSprop\n",
        "model.compile(optimizer=RMSprop(lr=0.001),loss='binary_crossentropy',metrics=['acc'])"
      ],
      "metadata": {
        "id": "AZdlc8WyV2Zh",
        "outputId": "41bfef82-b001-4d40-ffb0-24ef3faf9542",
        "colab": {
          "base_uri": "https://localhost:8080/"
        }
      },
      "execution_count": 9,
      "outputs": [
        {
          "output_type": "stream",
          "name": "stderr",
          "text": [
            "/usr/local/lib/python3.8/dist-packages/keras/optimizers/optimizer_v2/rmsprop.py:135: UserWarning: The `lr` argument is deprecated, use `learning_rate` instead.\n",
            "  super(RMSprop, self).__init__(name, **kwargs)\n"
          ]
        }
      ]
    },
    {
      "cell_type": "code",
      "metadata": {
        "id": "Fb1_lgobv81m",
        "colab": {
          "base_uri": "https://localhost:8080/"
        },
        "outputId": "775e5e60-193e-49a8-a8e5-67069eac6a57"
      },
      "source": [
        "history = model.fit(\n",
        "      train_generator,\n",
        "      steps_per_epoch=8,  \n",
        "      epochs=100,\n",
        "      verbose=1,\n",
        "      validation_data=validation_generator)"
      ],
      "execution_count": 11,
      "outputs": [
        {
          "output_type": "stream",
          "name": "stdout",
          "text": [
            "Epoch 1/100\n",
            "8/8 [==============================] - 6s 751ms/step - loss: 0.6890 - acc: 0.5264 - val_loss: 0.6841 - val_acc: 0.5000\n",
            "Epoch 2/100\n",
            "8/8 [==============================] - 6s 695ms/step - loss: 1.0822 - acc: 0.7709 - val_loss: 0.7595 - val_acc: 0.6562\n",
            "Epoch 3/100\n",
            "8/8 [==============================] - 6s 697ms/step - loss: 0.2877 - acc: 0.8788 - val_loss: 2.4652 - val_acc: 0.5859\n",
            "Epoch 4/100\n",
            "8/8 [==============================] - 6s 701ms/step - loss: 0.1796 - acc: 0.9333 - val_loss: 1.7043 - val_acc: 0.7695\n",
            "Epoch 5/100\n",
            "8/8 [==============================] - 6s 708ms/step - loss: 0.1572 - acc: 0.9344 - val_loss: 1.4779 - val_acc: 0.7812\n",
            "Epoch 6/100\n",
            "8/8 [==============================] - 6s 698ms/step - loss: 0.3742 - acc: 0.8954 - val_loss: 0.3211 - val_acc: 0.8672\n",
            "Epoch 7/100\n",
            "8/8 [==============================] - 6s 699ms/step - loss: 0.1398 - acc: 0.9566 - val_loss: 0.5509 - val_acc: 0.8633\n",
            "Epoch 8/100\n",
            "8/8 [==============================] - 6s 701ms/step - loss: 0.0545 - acc: 0.9822 - val_loss: 1.6123 - val_acc: 0.8125\n",
            "Epoch 9/100\n",
            "8/8 [==============================] - 6s 747ms/step - loss: 0.1114 - acc: 0.9609 - val_loss: 1.0092 - val_acc: 0.8516\n",
            "Epoch 10/100\n",
            "8/8 [==============================] - 6s 698ms/step - loss: 0.1048 - acc: 0.9689 - val_loss: 1.0687 - val_acc: 0.8516\n",
            "Epoch 11/100\n",
            "8/8 [==============================] - 6s 710ms/step - loss: 0.0196 - acc: 0.9944 - val_loss: 0.9374 - val_acc: 0.8945\n",
            "Epoch 12/100\n",
            "8/8 [==============================] - 6s 695ms/step - loss: 0.8675 - acc: 0.8799 - val_loss: 0.9416 - val_acc: 0.8086\n",
            "Epoch 13/100\n",
            "8/8 [==============================] - 6s 691ms/step - loss: 0.0560 - acc: 0.9778 - val_loss: 1.1441 - val_acc: 0.8555\n",
            "Epoch 14/100\n",
            "8/8 [==============================] - 6s 690ms/step - loss: 0.0345 - acc: 0.9900 - val_loss: 1.3063 - val_acc: 0.8320\n",
            "Epoch 15/100\n",
            "8/8 [==============================] - 6s 799ms/step - loss: 0.0027 - acc: 1.0000 - val_loss: 1.1928 - val_acc: 0.8789\n",
            "Epoch 16/100\n",
            "8/8 [==============================] - 6s 705ms/step - loss: 0.0176 - acc: 0.9944 - val_loss: 7.0999 - val_acc: 0.7070\n",
            "Epoch 17/100\n",
            "8/8 [==============================] - 6s 700ms/step - loss: 0.3119 - acc: 0.9244 - val_loss: 0.7566 - val_acc: 0.8906\n",
            "Epoch 18/100\n",
            "8/8 [==============================] - 6s 706ms/step - loss: 0.0183 - acc: 0.9944 - val_loss: 1.1209 - val_acc: 0.8594\n",
            "Epoch 19/100\n",
            "8/8 [==============================] - 6s 748ms/step - loss: 0.0019 - acc: 1.0000 - val_loss: 0.9357 - val_acc: 0.8984\n",
            "Epoch 20/100\n",
            "8/8 [==============================] - 6s 706ms/step - loss: 4.1534e-04 - acc: 1.0000 - val_loss: 1.3356 - val_acc: 0.8711\n",
            "Epoch 21/100\n",
            "8/8 [==============================] - 6s 702ms/step - loss: 4.3824e-04 - acc: 1.0000 - val_loss: 1.0704 - val_acc: 0.9023\n",
            "Epoch 22/100\n",
            "8/8 [==============================] - 6s 737ms/step - loss: 9.5433e-05 - acc: 1.0000 - val_loss: 1.1577 - val_acc: 0.9023\n",
            "Epoch 23/100\n",
            "8/8 [==============================] - 6s 752ms/step - loss: 5.3659e-05 - acc: 1.0000 - val_loss: 1.2469 - val_acc: 0.9023\n",
            "Epoch 24/100\n",
            "8/8 [==============================] - 6s 696ms/step - loss: 3.2425e-05 - acc: 1.0000 - val_loss: 1.3351 - val_acc: 0.8984\n",
            "Epoch 25/100\n",
            "8/8 [==============================] - 6s 791ms/step - loss: 2.0727e-05 - acc: 1.0000 - val_loss: 1.4234 - val_acc: 0.8984\n",
            "Epoch 26/100\n",
            "8/8 [==============================] - 6s 791ms/step - loss: 1.2008e-05 - acc: 1.0000 - val_loss: 1.5545 - val_acc: 0.8945\n",
            "Epoch 27/100\n",
            "8/8 [==============================] - 6s 701ms/step - loss: 7.7243e-06 - acc: 1.0000 - val_loss: 1.5602 - val_acc: 0.8984\n",
            "Epoch 28/100\n",
            "8/8 [==============================] - 6s 807ms/step - loss: 4.7741e-06 - acc: 1.0000 - val_loss: 1.6787 - val_acc: 0.8945\n",
            "Epoch 29/100\n",
            "8/8 [==============================] - 6s 753ms/step - loss: 2.9580e-06 - acc: 1.0000 - val_loss: 1.7060 - val_acc: 0.8945\n",
            "Epoch 30/100\n",
            "8/8 [==============================] - 6s 698ms/step - loss: 1.9354e-06 - acc: 1.0000 - val_loss: 1.8275 - val_acc: 0.8945\n",
            "Epoch 31/100\n",
            "8/8 [==============================] - 6s 699ms/step - loss: 1.0821e-06 - acc: 1.0000 - val_loss: 1.8776 - val_acc: 0.8945\n",
            "Epoch 32/100\n",
            "8/8 [==============================] - 6s 705ms/step - loss: 7.1406e-07 - acc: 1.0000 - val_loss: 1.9229 - val_acc: 0.8945\n",
            "Epoch 33/100\n",
            "8/8 [==============================] - 6s 699ms/step - loss: 4.8172e-07 - acc: 1.0000 - val_loss: 2.0394 - val_acc: 0.8945\n",
            "Epoch 34/100\n",
            "8/8 [==============================] - 6s 694ms/step - loss: 3.5777e-07 - acc: 1.0000 - val_loss: 2.0508 - val_acc: 0.8945\n",
            "Epoch 35/100\n",
            "8/8 [==============================] - 6s 696ms/step - loss: 2.0033e-07 - acc: 1.0000 - val_loss: 2.0313 - val_acc: 0.8945\n",
            "Epoch 36/100\n",
            "8/8 [==============================] - 6s 705ms/step - loss: 1.4942e-07 - acc: 1.0000 - val_loss: 2.3547 - val_acc: 0.8906\n",
            "Epoch 37/100\n",
            "8/8 [==============================] - 6s 707ms/step - loss: 9.3011e-08 - acc: 1.0000 - val_loss: 2.2081 - val_acc: 0.8945\n",
            "Epoch 38/100\n",
            "8/8 [==============================] - 6s 740ms/step - loss: 4.9112e-08 - acc: 1.0000 - val_loss: 2.3130 - val_acc: 0.8984\n",
            "Epoch 39/100\n",
            "8/8 [==============================] - 6s 693ms/step - loss: 3.0512e-08 - acc: 1.0000 - val_loss: 2.3937 - val_acc: 0.8984\n",
            "Epoch 40/100\n",
            "8/8 [==============================] - 6s 698ms/step - loss: 2.5492e-08 - acc: 1.0000 - val_loss: 2.3860 - val_acc: 0.8984\n",
            "Epoch 41/100\n",
            "8/8 [==============================] - 6s 801ms/step - loss: 1.7410e-08 - acc: 1.0000 - val_loss: 2.4627 - val_acc: 0.8984\n",
            "Epoch 42/100\n",
            "8/8 [==============================] - 6s 704ms/step - loss: 1.6078e-08 - acc: 1.0000 - val_loss: 2.5317 - val_acc: 0.8984\n",
            "Epoch 43/100\n",
            "8/8 [==============================] - 6s 740ms/step - loss: 1.0434e-08 - acc: 1.0000 - val_loss: 2.5226 - val_acc: 0.8984\n",
            "Epoch 44/100\n",
            "8/8 [==============================] - 6s 696ms/step - loss: 7.6273e-09 - acc: 1.0000 - val_loss: 2.5566 - val_acc: 0.8984\n",
            "Epoch 45/100\n",
            "8/8 [==============================] - 6s 696ms/step - loss: 6.3756e-09 - acc: 1.0000 - val_loss: 2.6080 - val_acc: 0.8984\n",
            "Epoch 46/100\n",
            "8/8 [==============================] - 6s 697ms/step - loss: 5.3102e-09 - acc: 1.0000 - val_loss: 2.6429 - val_acc: 0.8984\n",
            "Epoch 47/100\n",
            "8/8 [==============================] - 6s 700ms/step - loss: 3.7746e-09 - acc: 1.0000 - val_loss: 2.6270 - val_acc: 0.8984\n",
            "Epoch 48/100\n",
            "8/8 [==============================] - 6s 700ms/step - loss: 3.3261e-09 - acc: 1.0000 - val_loss: 1.8809 - val_acc: 0.9258\n",
            "Epoch 49/100\n",
            "8/8 [==============================] - 6s 694ms/step - loss: 4.2826 - acc: 0.8888 - val_loss: 0.9418 - val_acc: 0.8672\n",
            "Epoch 50/100\n",
            "8/8 [==============================] - 6s 705ms/step - loss: 0.0472 - acc: 0.9889 - val_loss: 1.3770 - val_acc: 0.8320\n",
            "Epoch 51/100\n",
            "8/8 [==============================] - 6s 754ms/step - loss: 0.0084 - acc: 0.9989 - val_loss: 1.2307 - val_acc: 0.8555\n",
            "Epoch 52/100\n",
            "8/8 [==============================] - 6s 701ms/step - loss: 0.0066 - acc: 0.9989 - val_loss: 1.0687 - val_acc: 0.8672\n",
            "Epoch 53/100\n",
            "8/8 [==============================] - 6s 696ms/step - loss: 0.0025 - acc: 0.9989 - val_loss: 1.1926 - val_acc: 0.8789\n",
            "Epoch 54/100\n",
            "8/8 [==============================] - 6s 695ms/step - loss: 1.4488e-04 - acc: 1.0000 - val_loss: 1.2581 - val_acc: 0.8867\n",
            "Epoch 55/100\n",
            "8/8 [==============================] - 6s 706ms/step - loss: 5.9956e-05 - acc: 1.0000 - val_loss: 1.4089 - val_acc: 0.8867\n",
            "Epoch 56/100\n",
            "8/8 [==============================] - 6s 700ms/step - loss: 2.6195e-05 - acc: 1.0000 - val_loss: 1.5529 - val_acc: 0.8828\n",
            "Epoch 57/100\n",
            "8/8 [==============================] - 6s 695ms/step - loss: 1.4794e-05 - acc: 1.0000 - val_loss: 1.6462 - val_acc: 0.8828\n",
            "Epoch 58/100\n",
            "8/8 [==============================] - 6s 697ms/step - loss: 1.0656e-05 - acc: 1.0000 - val_loss: 1.7788 - val_acc: 0.8750\n",
            "Epoch 59/100\n",
            "8/8 [==============================] - 6s 697ms/step - loss: 0.0047 - acc: 0.9967 - val_loss: 13.8008 - val_acc: 0.6953\n",
            "Epoch 60/100\n",
            "8/8 [==============================] - 6s 705ms/step - loss: 0.4489 - acc: 0.9422 - val_loss: 0.7898 - val_acc: 0.8828\n",
            "Epoch 61/100\n",
            "8/8 [==============================] - 6s 787ms/step - loss: 0.0246 - acc: 0.9922 - val_loss: 0.8269 - val_acc: 0.8828\n",
            "Epoch 62/100\n",
            "8/8 [==============================] - 6s 699ms/step - loss: 0.0017 - acc: 1.0000 - val_loss: 0.9870 - val_acc: 0.8398\n",
            "Epoch 63/100\n",
            "8/8 [==============================] - 6s 691ms/step - loss: 0.0038 - acc: 0.9989 - val_loss: 1.3100 - val_acc: 0.8906\n",
            "Epoch 64/100\n",
            "8/8 [==============================] - 6s 695ms/step - loss: 0.0781 - acc: 0.9822 - val_loss: 0.3525 - val_acc: 0.9062\n",
            "Epoch 65/100\n",
            "8/8 [==============================] - 6s 700ms/step - loss: 0.0177 - acc: 0.9967 - val_loss: 0.7259 - val_acc: 0.9023\n",
            "Epoch 66/100\n",
            "8/8 [==============================] - 6s 704ms/step - loss: 3.9806e-04 - acc: 1.0000 - val_loss: 0.8980 - val_acc: 0.9102\n",
            "Epoch 67/100\n",
            "8/8 [==============================] - 6s 728ms/step - loss: 5.5672e-05 - acc: 1.0000 - val_loss: 1.1304 - val_acc: 0.9023\n",
            "Epoch 68/100\n",
            "8/8 [==============================] - 5s 684ms/step - loss: 1.9157e-05 - acc: 1.0000 - val_loss: 1.2023 - val_acc: 0.9023\n",
            "Epoch 69/100\n",
            "8/8 [==============================] - 6s 693ms/step - loss: 1.2386e-05 - acc: 1.0000 - val_loss: 1.2854 - val_acc: 0.9023\n",
            "Epoch 70/100\n",
            "8/8 [==============================] - 6s 704ms/step - loss: 8.4380e-06 - acc: 1.0000 - val_loss: 1.3393 - val_acc: 0.9023\n",
            "Epoch 71/100\n",
            "8/8 [==============================] - 6s 705ms/step - loss: 4.8542e-06 - acc: 1.0000 - val_loss: 1.4116 - val_acc: 0.9023\n",
            "Epoch 72/100\n",
            "8/8 [==============================] - 6s 698ms/step - loss: 3.4318e-06 - acc: 1.0000 - val_loss: 1.4756 - val_acc: 0.9023\n",
            "Epoch 73/100\n",
            "8/8 [==============================] - 6s 783ms/step - loss: 2.0970e-06 - acc: 1.0000 - val_loss: 1.5326 - val_acc: 0.9023\n",
            "Epoch 74/100\n",
            "8/8 [==============================] - 6s 704ms/step - loss: 1.3528e-06 - acc: 1.0000 - val_loss: 1.6254 - val_acc: 0.9023\n",
            "Epoch 75/100\n",
            "8/8 [==============================] - 6s 706ms/step - loss: 8.2691e-07 - acc: 1.0000 - val_loss: 1.7051 - val_acc: 0.9023\n",
            "Epoch 76/100\n",
            "8/8 [==============================] - 6s 701ms/step - loss: 3.3091e-07 - acc: 1.0000 - val_loss: 1.8179 - val_acc: 0.9023\n",
            "Epoch 77/100\n",
            "8/8 [==============================] - 6s 694ms/step - loss: 4.3954e-07 - acc: 1.0000 - val_loss: 1.8070 - val_acc: 0.9023\n",
            "Epoch 78/100\n",
            "8/8 [==============================] - 6s 699ms/step - loss: 2.2665e-07 - acc: 1.0000 - val_loss: 1.8385 - val_acc: 0.9023\n",
            "Epoch 79/100\n",
            "8/8 [==============================] - 6s 695ms/step - loss: 1.8720e-07 - acc: 1.0000 - val_loss: 1.9317 - val_acc: 0.9023\n",
            "Epoch 80/100\n",
            "8/8 [==============================] - 6s 701ms/step - loss: 1.3421e-07 - acc: 1.0000 - val_loss: 1.9519 - val_acc: 0.9023\n",
            "Epoch 81/100\n",
            "8/8 [==============================] - 6s 698ms/step - loss: 7.6890e-08 - acc: 1.0000 - val_loss: 2.0307 - val_acc: 0.9023\n",
            "Epoch 82/100\n",
            "8/8 [==============================] - 6s 703ms/step - loss: 6.5135e-08 - acc: 1.0000 - val_loss: 2.0523 - val_acc: 0.9023\n",
            "Epoch 83/100\n",
            "8/8 [==============================] - 6s 694ms/step - loss: 4.2415e-08 - acc: 1.0000 - val_loss: 2.0806 - val_acc: 0.9023\n",
            "Epoch 84/100\n",
            "8/8 [==============================] - 6s 695ms/step - loss: 3.0180e-08 - acc: 1.0000 - val_loss: 2.1405 - val_acc: 0.9023\n",
            "Epoch 85/100\n",
            "8/8 [==============================] - 6s 712ms/step - loss: 2.0696e-08 - acc: 1.0000 - val_loss: 2.1500 - val_acc: 0.9062\n",
            "Epoch 86/100\n",
            "8/8 [==============================] - 6s 788ms/step - loss: 1.1734e-08 - acc: 1.0000 - val_loss: 2.2050 - val_acc: 0.9023\n",
            "Epoch 87/100\n",
            "8/8 [==============================] - 6s 697ms/step - loss: 1.2647e-08 - acc: 1.0000 - val_loss: 2.2634 - val_acc: 0.9023\n",
            "Epoch 88/100\n",
            "8/8 [==============================] - 6s 734ms/step - loss: 8.8751e-09 - acc: 1.0000 - val_loss: 2.2647 - val_acc: 0.9023\n",
            "Epoch 89/100\n",
            "8/8 [==============================] - 6s 709ms/step - loss: 6.3921e-09 - acc: 1.0000 - val_loss: 2.3038 - val_acc: 0.9023\n",
            "Epoch 90/100\n",
            "8/8 [==============================] - 6s 811ms/step - loss: 5.4680e-09 - acc: 1.0000 - val_loss: 2.3547 - val_acc: 0.9023\n",
            "Epoch 91/100\n",
            "8/8 [==============================] - 6s 704ms/step - loss: 3.5284e-09 - acc: 1.0000 - val_loss: 2.4125 - val_acc: 0.9023\n",
            "Epoch 92/100\n",
            "8/8 [==============================] - 6s 704ms/step - loss: 4.0629e-09 - acc: 1.0000 - val_loss: 2.4162 - val_acc: 0.9023\n",
            "Epoch 93/100\n",
            "8/8 [==============================] - 6s 700ms/step - loss: 2.3154e-09 - acc: 1.0000 - val_loss: 2.4892 - val_acc: 0.9023\n",
            "Epoch 94/100\n",
            "8/8 [==============================] - 6s 707ms/step - loss: 2.9213e-09 - acc: 1.0000 - val_loss: 2.4802 - val_acc: 0.9023\n",
            "Epoch 95/100\n",
            "8/8 [==============================] - 6s 770ms/step - loss: 1.6075e-09 - acc: 1.0000 - val_loss: 2.4544 - val_acc: 0.9062\n",
            "Epoch 96/100\n",
            "8/8 [==============================] - 6s 707ms/step - loss: 1.6627e-09 - acc: 1.0000 - val_loss: 2.4368 - val_acc: 0.9102\n",
            "Epoch 97/100\n",
            "8/8 [==============================] - 6s 702ms/step - loss: 1.3411e-09 - acc: 1.0000 - val_loss: 2.5010 - val_acc: 0.9062\n",
            "Epoch 98/100\n",
            "8/8 [==============================] - 6s 808ms/step - loss: 8.9681e-10 - acc: 1.0000 - val_loss: 2.5981 - val_acc: 0.9023\n",
            "Epoch 99/100\n",
            "8/8 [==============================] - 6s 708ms/step - loss: 6.5530e-10 - acc: 1.0000 - val_loss: 2.5378 - val_acc: 0.9062\n",
            "Epoch 100/100\n",
            "8/8 [==============================] - 6s 707ms/step - loss: 7.0077e-10 - acc: 1.0000 - val_loss: 2.6062 - val_acc: 0.9023\n"
          ]
        }
      ]
    },
    {
      "cell_type": "markdown",
      "metadata": {
        "id": "o6vSHzPR2ghH"
      },
      "source": [
        "## Run your Model\n",
        "\n",
        "Let's now take a look at actually running a prediction using the model. This code will allow you to choose 1 or more files from your file system, it will then upload them, and run them through the model, giving an indication of whether the object is a horse or a human. **Was the model correct? Try a couple more images and see if you can confuse it!**"
      ]
    },
    {
      "cell_type": "code",
      "metadata": {
        "id": "DoWp43WxJDNT",
        "colab": {
          "base_uri": "https://localhost:8080/",
          "height": 141
        },
        "outputId": "7701861c-e0e2-4ab9-ff57-63dcd849429c"
      },
      "source": [
        "import numpy as np\n",
        "from google.colab import files\n",
        "from tensorflow.keras import utils\n",
        "\n",
        "uploaded = files.upload()\n",
        "\n",
        "for fn in uploaded.keys():\n",
        " \n",
        "  # predicting images\n",
        "  path = '/content/' + fn\n",
        "  img = utils.load_img(path, target_size=(100, 100))\n",
        "  x = utils.img_to_array(img)\n",
        "  x = x / 255.0\n",
        "  x = np.expand_dims(x, axis=0)\n",
        "\n",
        "  image_tensor = np.vstack([x])\n",
        "  classes = model.predict(image_tensor)\n",
        "  print(classes)\n",
        "  print(classes[0])\n",
        "  if classes[0]>0.5:\n",
        "    print(fn + \" is a human\")\n",
        "  else:\n",
        "    print(fn + \" is a horse\")\n",
        " "
      ],
      "execution_count": 17,
      "outputs": [
        {
          "output_type": "display_data",
          "data": {
            "text/plain": [
              "<IPython.core.display.HTML object>"
            ],
            "text/html": [
              "\n",
              "     <input type=\"file\" id=\"files-acb9ecd7-5f75-4530-84fb-ef58e29fe85e\" name=\"files[]\" multiple disabled\n",
              "        style=\"border:none\" />\n",
              "     <output id=\"result-acb9ecd7-5f75-4530-84fb-ef58e29fe85e\">\n",
              "      Upload widget is only available when the cell has been executed in the\n",
              "      current browser session. Please rerun this cell to enable.\n",
              "      </output>\n",
              "      <script>// Copyright 2017 Google LLC\n",
              "//\n",
              "// Licensed under the Apache License, Version 2.0 (the \"License\");\n",
              "// you may not use this file except in compliance with the License.\n",
              "// You may obtain a copy of the License at\n",
              "//\n",
              "//      http://www.apache.org/licenses/LICENSE-2.0\n",
              "//\n",
              "// Unless required by applicable law or agreed to in writing, software\n",
              "// distributed under the License is distributed on an \"AS IS\" BASIS,\n",
              "// WITHOUT WARRANTIES OR CONDITIONS OF ANY KIND, either express or implied.\n",
              "// See the License for the specific language governing permissions and\n",
              "// limitations under the License.\n",
              "\n",
              "/**\n",
              " * @fileoverview Helpers for google.colab Python module.\n",
              " */\n",
              "(function(scope) {\n",
              "function span(text, styleAttributes = {}) {\n",
              "  const element = document.createElement('span');\n",
              "  element.textContent = text;\n",
              "  for (const key of Object.keys(styleAttributes)) {\n",
              "    element.style[key] = styleAttributes[key];\n",
              "  }\n",
              "  return element;\n",
              "}\n",
              "\n",
              "// Max number of bytes which will be uploaded at a time.\n",
              "const MAX_PAYLOAD_SIZE = 100 * 1024;\n",
              "\n",
              "function _uploadFiles(inputId, outputId) {\n",
              "  const steps = uploadFilesStep(inputId, outputId);\n",
              "  const outputElement = document.getElementById(outputId);\n",
              "  // Cache steps on the outputElement to make it available for the next call\n",
              "  // to uploadFilesContinue from Python.\n",
              "  outputElement.steps = steps;\n",
              "\n",
              "  return _uploadFilesContinue(outputId);\n",
              "}\n",
              "\n",
              "// This is roughly an async generator (not supported in the browser yet),\n",
              "// where there are multiple asynchronous steps and the Python side is going\n",
              "// to poll for completion of each step.\n",
              "// This uses a Promise to block the python side on completion of each step,\n",
              "// then passes the result of the previous step as the input to the next step.\n",
              "function _uploadFilesContinue(outputId) {\n",
              "  const outputElement = document.getElementById(outputId);\n",
              "  const steps = outputElement.steps;\n",
              "\n",
              "  const next = steps.next(outputElement.lastPromiseValue);\n",
              "  return Promise.resolve(next.value.promise).then((value) => {\n",
              "    // Cache the last promise value to make it available to the next\n",
              "    // step of the generator.\n",
              "    outputElement.lastPromiseValue = value;\n",
              "    return next.value.response;\n",
              "  });\n",
              "}\n",
              "\n",
              "/**\n",
              " * Generator function which is called between each async step of the upload\n",
              " * process.\n",
              " * @param {string} inputId Element ID of the input file picker element.\n",
              " * @param {string} outputId Element ID of the output display.\n",
              " * @return {!Iterable<!Object>} Iterable of next steps.\n",
              " */\n",
              "function* uploadFilesStep(inputId, outputId) {\n",
              "  const inputElement = document.getElementById(inputId);\n",
              "  inputElement.disabled = false;\n",
              "\n",
              "  const outputElement = document.getElementById(outputId);\n",
              "  outputElement.innerHTML = '';\n",
              "\n",
              "  const pickedPromise = new Promise((resolve) => {\n",
              "    inputElement.addEventListener('change', (e) => {\n",
              "      resolve(e.target.files);\n",
              "    });\n",
              "  });\n",
              "\n",
              "  const cancel = document.createElement('button');\n",
              "  inputElement.parentElement.appendChild(cancel);\n",
              "  cancel.textContent = 'Cancel upload';\n",
              "  const cancelPromise = new Promise((resolve) => {\n",
              "    cancel.onclick = () => {\n",
              "      resolve(null);\n",
              "    };\n",
              "  });\n",
              "\n",
              "  // Wait for the user to pick the files.\n",
              "  const files = yield {\n",
              "    promise: Promise.race([pickedPromise, cancelPromise]),\n",
              "    response: {\n",
              "      action: 'starting',\n",
              "    }\n",
              "  };\n",
              "\n",
              "  cancel.remove();\n",
              "\n",
              "  // Disable the input element since further picks are not allowed.\n",
              "  inputElement.disabled = true;\n",
              "\n",
              "  if (!files) {\n",
              "    return {\n",
              "      response: {\n",
              "        action: 'complete',\n",
              "      }\n",
              "    };\n",
              "  }\n",
              "\n",
              "  for (const file of files) {\n",
              "    const li = document.createElement('li');\n",
              "    li.append(span(file.name, {fontWeight: 'bold'}));\n",
              "    li.append(span(\n",
              "        `(${file.type || 'n/a'}) - ${file.size} bytes, ` +\n",
              "        `last modified: ${\n",
              "            file.lastModifiedDate ? file.lastModifiedDate.toLocaleDateString() :\n",
              "                                    'n/a'} - `));\n",
              "    const percent = span('0% done');\n",
              "    li.appendChild(percent);\n",
              "\n",
              "    outputElement.appendChild(li);\n",
              "\n",
              "    const fileDataPromise = new Promise((resolve) => {\n",
              "      const reader = new FileReader();\n",
              "      reader.onload = (e) => {\n",
              "        resolve(e.target.result);\n",
              "      };\n",
              "      reader.readAsArrayBuffer(file);\n",
              "    });\n",
              "    // Wait for the data to be ready.\n",
              "    let fileData = yield {\n",
              "      promise: fileDataPromise,\n",
              "      response: {\n",
              "        action: 'continue',\n",
              "      }\n",
              "    };\n",
              "\n",
              "    // Use a chunked sending to avoid message size limits. See b/62115660.\n",
              "    let position = 0;\n",
              "    do {\n",
              "      const length = Math.min(fileData.byteLength - position, MAX_PAYLOAD_SIZE);\n",
              "      const chunk = new Uint8Array(fileData, position, length);\n",
              "      position += length;\n",
              "\n",
              "      const base64 = btoa(String.fromCharCode.apply(null, chunk));\n",
              "      yield {\n",
              "        response: {\n",
              "          action: 'append',\n",
              "          file: file.name,\n",
              "          data: base64,\n",
              "        },\n",
              "      };\n",
              "\n",
              "      let percentDone = fileData.byteLength === 0 ?\n",
              "          100 :\n",
              "          Math.round((position / fileData.byteLength) * 100);\n",
              "      percent.textContent = `${percentDone}% done`;\n",
              "\n",
              "    } while (position < fileData.byteLength);\n",
              "  }\n",
              "\n",
              "  // All done.\n",
              "  yield {\n",
              "    response: {\n",
              "      action: 'complete',\n",
              "    }\n",
              "  };\n",
              "}\n",
              "\n",
              "scope.google = scope.google || {};\n",
              "scope.google.colab = scope.google.colab || {};\n",
              "scope.google.colab._files = {\n",
              "  _uploadFiles,\n",
              "  _uploadFilesContinue,\n",
              "};\n",
              "})(self);\n",
              "</script> "
            ]
          },
          "metadata": {}
        },
        {
          "output_type": "stream",
          "name": "stdout",
          "text": [
            "Saving crawl.webp to crawl.webp\n",
            "1/1 [==============================] - 0s 15ms/step\n",
            "[[4.8398082e-20]]\n",
            "[4.8398082e-20]\n",
            "crawl.webp is a horse\n"
          ]
        }
      ]
    },
    {
      "cell_type": "markdown",
      "metadata": {
        "id": "D-9BosuqR3Vk"
      },
      "source": [
        "## Finally lets visualize all of the model layers!"
      ]
    },
    {
      "cell_type": "code",
      "metadata": {
        "id": "h-SUwB0bzVvc",
        "colab": {
          "base_uri": "https://localhost:8080/",
          "height": 1000
        },
        "outputId": "66480513-c64b-4b16-9bbc-a7f8c79d718c"
      },
      "source": [
        "import matplotlib.pyplot as plt\n",
        "import numpy as np\n",
        "import random\n",
        "from tensorflow.keras.preprocessing.image import img_to_array, load_img\n",
        "\n",
        "%matplotlib inline\n",
        "\n",
        "import matplotlib.pyplot as plt\n",
        "import matplotlib.image as mpimg\n",
        "\n",
        "# Let's define a new Model that will take an image as input, and will output\n",
        "# intermediate representations for all layers in the previous model after the first.\n",
        "successive_outputs = [layer.output for layer in model.layers[1:]]\n",
        "visualization_model = tf.keras.models.Model(inputs = model.input, outputs = successive_outputs)\n",
        "# Let's prepare a random input image from the training set.\n",
        "horse_img_files = [os.path.join(train_horse_dir, f) for f in train_horse_names]\n",
        "human_img_files = [os.path.join(train_human_dir, f) for f in train_human_names]\n",
        "img_path = random.choice(horse_img_files + human_img_files)\n",
        "# uncomment the following line if you want to pick the Xth human file manually\n",
        "img_path = human_img_files[0]\n",
        "\n",
        "img = load_img(img_path, target_size=(100, 100))  # this is a PIL image\n",
        "x = img_to_array(img)  # Numpy array with shape (100, 100, 3)\n",
        "x = x.reshape((1,) + x.shape)  # Numpy array with shape (1, 100, 100, 3)\n",
        "\n",
        "# Rescale by 1/255\n",
        "x /= 255.0\n",
        "\n",
        "# Let's run our image through our network, thus obtaining all\n",
        "# intermediate representations for this image.\n",
        "successive_feature_maps = visualization_model.predict(x)\n",
        "\n",
        "# These are the names of the layers, so can have them as part of our plot\n",
        "layer_names = [layer.name for layer in model.layers]\n",
        "\n",
        "# Now let's display our representations\n",
        "for layer_name, feature_map in zip(layer_names, successive_feature_maps):\n",
        "  if len(feature_map.shape) == 4:\n",
        "    # Just do this for the conv / maxpool layers, not the fully-connected layers\n",
        "    n_features = feature_map.shape[-1]  # number of features in feature map\n",
        "    n_features = min(n_features,5) # limit to 5 features for easier viewing\n",
        "    # The feature map has shape (1, size, size, n_features)\n",
        "    size = feature_map.shape[1]\n",
        "    # We will tile our images in this matrix\n",
        "    display_grid = np.zeros((size, size * n_features))\n",
        "    for i in range(n_features):\n",
        "      # Postprocess the feature to make it visually palatable\n",
        "      x = feature_map[0, :, :, i]\n",
        "      x -= x.mean()\n",
        "      x /= x.std()\n",
        "      x *= 64\n",
        "      x += 128\n",
        "      x = np.clip(x, 0, 255).astype('uint8')\n",
        "      # We'll tile each filter into this big horizontal grid\n",
        "      display_grid[:, i * size : (i + 1) * size] = x\n",
        "    # Display the grid\n",
        "    scale = 20. / n_features\n",
        "    plt.figure(figsize=(scale * n_features, scale))\n",
        "    plt.title(layer_name)\n",
        "    plt.grid(False)\n",
        "    plt.imshow(display_grid, aspect='auto', cmap='viridis')"
      ],
      "execution_count": 18,
      "outputs": [
        {
          "output_type": "stream",
          "name": "stdout",
          "text": [
            "1/1 [==============================] - 0s 86ms/step\n"
          ]
        },
        {
          "output_type": "stream",
          "name": "stderr",
          "text": [
            "<ipython-input-18-2712d6f650d3>:50: RuntimeWarning: invalid value encountered in true_divide\n",
            "  x /= x.std()\n"
          ]
        },
        {
          "output_type": "display_data",
          "data": {
            "text/plain": [
              "<Figure size 1440x288 with 1 Axes>"
            ],
            "image/png": "[encoded data removed]"
          },
          "metadata": {
            "needs_background": "light"
          }
        },
        {
          "output_type": "display_data",
          "data": {
            "text/plain": [
              "<Figure size 1440x288 with 1 Axes>"
            ],
            "image/png": "[encoded data removed]"
          },
          "metadata": {
            "needs_background": "light"
          }
        },
        {
          "output_type": "display_data",
          "data": {
            "text/plain": [
              "<Figure size 1440x288 with 1 Axes>"
            ],
            "image/png": "[encoded data removed]"
          },
          "metadata": {
            "needs_background": "light"
          }
        },
        {
          "output_type": "display_data",
          "data": {
            "text/plain": [
              "<Figure size 1440x288 with 1 Axes>"
            ],
            "image/png": "[encoded data removed]"
          },
          "metadata": {
            "needs_background": "light"
          }
        },
        {
          "output_type": "display_data",
          "data": {
            "text/plain": [
              "<Figure size 1440x288 with 1 Axes>"
            ],
            "image/png": "[encoded data removed]"
          },
          "metadata": {
            "needs_background": "light"
          }
        },
        {
          "output_type": "display_data",
          "data": {
            "text/plain": [
              "<Figure size 1440x288 with 1 Axes>"
            ],
            "image/png": "[encoded data removed]"
          },
          "metadata": {
            "needs_background": "light"
          }
        },
        {
          "output_type": "display_data",
          "data": {
            "text/plain": [
              "<Figure size 1440x288 with 1 Axes>"
            ],
            "image/png": "[encoded data removed]"
          },
          "metadata": {
            "needs_background": "light"
          }
        }
      ]
    },
    {
      "cell_type": "markdown",
      "metadata": {
        "id": "j4IBgYCYooGD"
      },
      "source": [
        "## Clean Up\n",
        "\n",
        "Before running the next exercise, run the following cell to terminate the kernel and free memory resources:"
      ]
    },
    {
      "cell_type": "code",
      "metadata": {
        "id": "651IgjLyo-Jx"
      },
      "source": [
        "import os, signal\n",
        "os.kill(os.getpid(), signal.SIGKILL)"
      ],
      "execution_count": null,
      "outputs": []
    }
  ]
}